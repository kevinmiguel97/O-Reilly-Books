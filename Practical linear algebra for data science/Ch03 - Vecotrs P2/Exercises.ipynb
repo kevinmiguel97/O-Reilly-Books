{
 "cells": [
  {
   "cell_type": "markdown",
   "metadata": {},
   "source": [
    "# Chapter 3: Exercises\n",
    "\n",
    "Course repo: https://github.com/mikexcohen/LinAlg4DataScience/tree/main"
   ]
  },
  {
   "cell_type": "code",
   "execution_count": 1,
   "metadata": {},
   "outputs": [],
   "source": [
    "# import libraries\n",
    "import numpy as np\n",
    "import matplotlib.pyplot as plt\n",
    "\n",
    "\n",
    "# NOTE: these lines define global figure properties used for publication.\n",
    "import matplotlib_inline.backend_inline\n",
    "matplotlib_inline.backend_inline.set_matplotlib_formats('svg') # display figures in vector format\n",
    "plt.rcParams.update({'font.size':14}) # set global font size"
   ]
  },
  {
   "cell_type": "markdown",
   "metadata": {},
   "source": [
    "## Ex 1\n",
    "\n",
    " Rewrite the code for linear weighted combination, but put the scalars in a list and the\n",
    " vectors as elements in a list (thus, you will have two lists, one of scalars and one of\n",
    " NumPy arrays). Then use a for loop to implement the linear weighted combination\n",
    " operation. Initialize the output vector using np.zeros(). Confirm that you get the\n",
    " same result as in the previous code."
   ]
  },
  {
   "cell_type": "code",
   "execution_count": 15,
   "metadata": {},
   "outputs": [
    {
     "data": {
      "text/plain": [
       "array([ -7.,  -4., -13.])"
      ]
     },
     "execution_count": 15,
     "metadata": {},
     "output_type": "execute_result"
    }
   ],
   "source": [
    "v1 = np.array([4,5,1])\n",
    "v2 = np.array([-4,0,-4])\n",
    "v3 = np.array([1,3,2])\n",
    "\n",
    "V = [v1, v2, v3]\n",
    "lambdas = [1, 2, -3]\n",
    "\n",
    "# Output vectors \n",
    "v_result = np.zeros(3)\n",
    "\n",
    "row = 0\n",
    "for vector, scalar in zip(V, lambdas):\n",
    "    v_result = v_result + vector * scalar\n",
    "\n",
    "v_result"
   ]
  },
  {
   "cell_type": "markdown",
   "metadata": {},
   "source": [
    "## Ex 2\n",
    "\n",
    "Although the method of looping through lists in the previous exercise is not as\n",
    "efficient as matrix-vector multiplication, it is more scalable than without a for loop.\n",
    "You can explore this by adding additional scalars and vectors as elements in the lists.\n",
    "What happens if the new added vector is in ℝ4 instead of ℝ3? And what happens if\n",
    "you have more scalars than vectors"
   ]
  },
  {
   "cell_type": "code",
   "execution_count": null,
   "metadata": {},
   "outputs": [],
   "source": []
  }
 ],
 "metadata": {
  "kernelspec": {
   "display_name": "Python 3",
   "language": "python",
   "name": "python3"
  },
  "language_info": {
   "codemirror_mode": {
    "name": "ipython",
    "version": 3
   },
   "file_extension": ".py",
   "mimetype": "text/x-python",
   "name": "python",
   "nbconvert_exporter": "python",
   "pygments_lexer": "ipython3",
   "version": "3.12.7"
  }
 },
 "nbformat": 4,
 "nbformat_minor": 2
}
