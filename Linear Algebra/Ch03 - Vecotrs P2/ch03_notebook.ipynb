{
 "cells": [
  {
   "cell_type": "markdown",
   "metadata": {},
   "source": [
    "# Chapter 3 - Vectors P2\n",
    "\n",
    "Course repo: https://github.com/mikexcohen/LinAlg4DataScience/tree/main"
   ]
  },
  {
   "cell_type": "code",
   "execution_count": 1,
   "metadata": {},
   "outputs": [],
   "source": [
    "# import libraries\n",
    "import numpy as np\n",
    "import matplotlib.pyplot as plt\n",
    "\n",
    "\n",
    "# NOTE: these lines define global figure properties used for publication.\n",
    "import matplotlib_inline.backend_inline\n",
    "matplotlib_inline.backend_inline.set_matplotlib_formats('svg') # display figures in vector format\n",
    "plt.rcParams.update({'font.size':14}) # set global font size"
   ]
  },
  {
   "cell_type": "markdown",
   "metadata": {},
   "source": [
    "## Vecotrs Sets\n",
    "\n",
    "- A collection of vectors is called a set \n",
    "    - $V$ = {$v_1$, $v_2$, ...}"
   ]
  },
  {
   "cell_type": "markdown",
   "metadata": {},
   "source": [
    "## Linear weight combination"
   ]
  },
  {
   "cell_type": "markdown",
   "metadata": {},
   "source": [
    " Linear weighted combination simply means scalar-vector multiplication and addi\n",
    "tion: take some set of vectors, multiply each vector by a scalar, and add them to\n",
    " produce a single vector\n",
    "\n",
    "$\\vec{w} = \\lambda_1 \\vec{v_1} + \\lambda_2 \\vec{v_2} + ... + \\lambda_n \\vec{v_n}$"
   ]
  },
  {
   "cell_type": "code",
   "execution_count": 2,
   "metadata": {},
   "outputs": [
    {
     "data": {
      "text/plain": [
       "array([ -7,  -4, -13])"
      ]
     },
     "execution_count": 2,
     "metadata": {},
     "output_type": "execute_result"
    }
   ],
   "source": [
    "l1 = 1\n",
    "l2 = 2\n",
    "l3 = -3\n",
    "v1 = np.array([4,5,1])\n",
    "v2 = np.array([-4,0,-4])\n",
    "v3 = np.array([1,3,2])\n",
    "l1*v1 + l2*v2 + l3*v3"
   ]
  },
  {
   "cell_type": "markdown",
   "metadata": {},
   "source": [
    "## Linear independence \n",
    "\n",
    "- A set of vectors is linearly dependent if at least one vector can be expressed as a linear combination of the other vectors in the set \n",
    "\n",
    "-  Independence is a property of a set of vectors. That is, a set of vectors can be linearly\n",
    " independent or linearly dependent; independence is not a property of an individual\n",
    " vector within a set.\n",
    "\n",
    "- Linear dependence\n",
    "    - $0 = \\lambda_1 \\mathbf{v}_1 + \\lambda_2 \\mathbf{v}_2 + \\dots + \\lambda_n \\mathbf{v}_n, \\quad \\lambda \\in \\mathbb{R}$\n"
   ]
  },
  {
   "cell_type": "markdown",
   "metadata": {},
   "source": [
    "##  Subspace and Span\n",
    "\n",
    "- The span of a collection of vectors is the set of vectors that you can reach by combining the set in the original collection\n",
    "\n",
    "- The subspace that a set of vectors span is the space that can be reached by linearly combining all the vectors in the set \n",
    "\n",
    "- If all the vectors in a set are independent, you can create a subset that has the same dimension as the number of sets \n",
    "\n",
    "- In general you can only go as far in dimensionality as the number if independent vectors a set contains"
   ]
  },
  {
   "cell_type": "markdown",
   "metadata": {},
   "source": [
    "## Definition of a basis (P60)\n",
    "\n",
    "- A basis is the combination of span and independence\n",
    "- A set of fectors can be a basis of some subset if it spans that subspace and is an independent set of vectors\n"
   ]
  },
  {
   "cell_type": "code",
   "execution_count": null,
   "metadata": {},
   "outputs": [],
   "source": []
  }
 ],
 "metadata": {
  "kernelspec": {
   "display_name": "Python 3",
   "language": "python",
   "name": "python3"
  },
  "language_info": {
   "codemirror_mode": {
    "name": "ipython",
    "version": 3
   },
   "file_extension": ".py",
   "mimetype": "text/x-python",
   "name": "python",
   "nbconvert_exporter": "python",
   "pygments_lexer": "ipython3",
   "version": "3.12.7"
  }
 },
 "nbformat": 4,
 "nbformat_minor": 2
}
