{
 "cells": [
  {
   "cell_type": "markdown",
   "metadata": {},
   "source": [
    "# Chapter 3: Exercises\n",
    "\n",
    "Course repo: https://github.com/mikexcohen/LinAlg4DataScience/tree/main"
   ]
  },
  {
   "cell_type": "code",
   "execution_count": 1,
   "metadata": {},
   "outputs": [],
   "source": [
    "# import libraries\n",
    "import numpy as np\n",
    "import matplotlib.pyplot as plt\n",
    "\n",
    "\n",
    "# NOTE: these lines define global figure properties used for publication.\n",
    "import matplotlib_inline.backend_inline\n",
    "matplotlib_inline.backend_inline.set_matplotlib_formats('svg') # display figures in vector format\n",
    "plt.rcParams.update({'font.size':14}) # set global font size"
   ]
  },
  {
   "cell_type": "markdown",
   "metadata": {},
   "source": [
    "## Ex 1\n",
    "\n",
    " Rewrite the code for linear weighted combination, but put the scalars in a list and the\n",
    " vectors as elements in a list (thus, you will have two lists, one of scalars and one of\n",
    " NumPy arrays). Then use a for loop to implement the linear weighted combination\n",
    " operation. Initialize the output vector using np.zeros(). Confirm that you get the\n",
    " same result as in the previous code."
   ]
  },
  {
   "cell_type": "code",
   "execution_count": 2,
   "metadata": {},
   "outputs": [
    {
     "data": {
      "text/plain": [
       "array([ -7.,  -4., -13.])"
      ]
     },
     "execution_count": 2,
     "metadata": {},
     "output_type": "execute_result"
    }
   ],
   "source": [
    "v1 = np.array([4,5,1])\n",
    "v2 = np.array([-4,0,-4])\n",
    "v3 = np.array([1,3,2])\n",
    "\n",
    "V = [v1, v2, v3]\n",
    "lambdas = [1, 2, -3]\n",
    "\n",
    "# Output vectors \n",
    "v_result = np.zeros(3)\n",
    "\n",
    "row = 0\n",
    "for vector, scalar in zip(V, lambdas):\n",
    "    v_result = v_result + vector * scalar\n",
    "\n",
    "v_result"
   ]
  },
  {
   "cell_type": "markdown",
   "metadata": {},
   "source": [
    "## Ex 2\n",
    "\n",
    " In this exercise, you will draw random points in subspaces. This will help reinforce\n",
    " the idea that subspaces comprise any linear weighted combination of the spanning\n",
    " vectors. \n",
    " \n",
    " Define a vector set containing one vector [1, 3]. \n",
    " \n",
    " Then create 100 numbers drawn randomly from a uniform distribution between −4 and +4. Those are your\n",
    " random scalars. \n",
    " \n",
    " Multiply the random scalars by the basis vector to create 100 random\n",
    " points in the subspace. Plot those points.\n",
    "\n",
    " Next, repeat the procedure but using two vectors in ℝ3: [3, 5, 1] and [0, 2, 2]. Note\n",
    " that you need 100 × 2 random scalars for 100 points and two vectors. \n",
    "\n",
    " The resulting random dots will be on a plane. \n",
    " \n",
    " Figure 3-7 shows what the results will look like (it’s\n",
    " not clear from the figure that the points lie on a plane, but you’ll see this when you\n",
    " drag the plot around on your screen).\n",
    " \n",
    " I recommend using the plotly library to draw the dots, so you can click-drag the 3D\n",
    " axis around. Here’s a hint for getting it to work"
   ]
  },
  {
   "cell_type": "code",
   "execution_count": 3,
   "metadata": {},
   "outputs": [
    {
     "data": {
      "image/svg+xml": [
       "<?xml version=\"1.0\" encoding=\"utf-8\" standalone=\"no\"?>\n",
       "<!DOCTYPE svg PUBLIC \"-//W3C//DTD SVG 1.1//EN\"\n",
       "  \"http://www.w3.org/Graphics/SVG/1.1/DTD/svg11.dtd\">\n",
       "<svg xmlns:xlink=\"http://www.w3.org/1999/xlink\" width=\"385.746562pt\" height=\"367.589375pt\" viewBox=\"0 0 385.746562 367.589375\" xmlns=\"http://www.w3.org/2000/svg\" version=\"1.1\">\n",
       " <metadata>\n",
       "  <rdf:RDF xmlns:dc=\"http://purl.org/dc/elements/1.1/\" xmlns:cc=\"http://creativecommons.org/ns#\" xmlns:rdf=\"http://www.w3.org/1999/02/22-rdf-syntax-ns#\">\n",
       "   <cc:Work>\n",
       "    <dc:type rdf:resource=\"http://purl.org/dc/dcmitype/StillImage\"/>\n",
       "    <dc:date>2025-04-03T19:23:59.757568</dc:date>\n",
       "    <dc:format>image/svg+xml</dc:format>\n",
       "    <dc:creator>\n",
       "     <cc:Agent>\n",
       "      <dc:title>Matplotlib v3.9.2, https://matplotlib.org/</dc:title>\n",
       "     </cc:Agent>\n",
       "    </dc:creator>\n",
       "   </cc:Work>\n",
       "  </rdf:RDF>\n",
       " </metadata>\n",
       " <defs>\n",
       "  <style type=\"text/css\">*{stroke-linejoin: round; stroke-linecap: butt}</style>\n",
       " </defs>\n",
       " <g id=\"figure_1\">\n",
       "  <g id=\"patch_1\">\n",
       "   <path d=\"M 0 367.589375 \n",
       "L 385.746562 367.589375 \n",
       "L 385.746562 0 \n",
       "L 0 0 \n",
       "z\n",
       "\" style=\"fill: #ffffff\"/>\n",
       "  </g>\n",
       "  <g id=\"axes_1\">\n",
       "   <g id=\"patch_2\">\n",
       "    <path d=\"M 43.746563 339.84 \n",
       "L 378.546562 339.84 \n",
       "L 378.546562 7.2 \n",
       "L 43.746563 7.2 \n",
       "z\n",
       "\" style=\"fill: #ffffff\"/>\n",
       "   </g>\n",
       "   <g id=\"matplotlib.axis_1\">\n",
       "    <g id=\"xtick_1\">\n",
       "     <g id=\"line2d_1\">\n",
       "      <defs>\n",
       "       <path id=\"m6c2e2e7f5a\" d=\"M 0 0 \n",
       "L 0 3.5 \n",
       "\" style=\"stroke: #000000; stroke-width: 0.8\"/>\n",
       "      </defs>\n",
       "      <g>\n",
       "       <use xlink:href=\"#m6c2e2e7f5a\" x=\"57.308389\" y=\"339.84\" style=\"stroke: #000000; stroke-width: 0.8\"/>\n",
       "      </g>\n",
       "     </g>\n",
       "     <g id=\"text_1\">\n",
       "      <!-- −4 -->\n",
       "      <g transform=\"translate(46.988858 357.477813) scale(0.14 -0.14)\">\n",
       "       <defs>\n",
       "        <path id=\"DejaVuSans-2212\" d=\"M 678 2272 \n",
       "L 4684 2272 \n",
       "L 4684 1741 \n",
       "L 678 1741 \n",
       "L 678 2272 \n",
       "z\n",
       "\" transform=\"scale(0.015625)\"/>\n",
       "        <path id=\"DejaVuSans-34\" d=\"M 2419 4116 \n",
       "L 825 1625 \n",
       "L 2419 1625 \n",
       "L 2419 4116 \n",
       "z\n",
       "M 2253 4666 \n",
       "L 3047 4666 \n",
       "L 3047 1625 \n",
       "L 3713 1625 \n",
       "L 3713 1100 \n",
       "L 3047 1100 \n",
       "L 3047 0 \n",
       "L 2419 0 \n",
       "L 2419 1100 \n",
       "L 313 1100 \n",
       "L 313 1709 \n",
       "L 2253 4666 \n",
       "z\n",
       "\" transform=\"scale(0.015625)\"/>\n",
       "       </defs>\n",
       "       <use xlink:href=\"#DejaVuSans-2212\"/>\n",
       "       <use xlink:href=\"#DejaVuSans-34\" x=\"83.789062\"/>\n",
       "      </g>\n",
       "     </g>\n",
       "    </g>\n",
       "    <g id=\"xtick_2\">\n",
       "     <g id=\"line2d_2\">\n",
       "      <g>\n",
       "       <use xlink:href=\"#m6c2e2e7f5a\" x=\"133.830058\" y=\"339.84\" style=\"stroke: #000000; stroke-width: 0.8\"/>\n",
       "      </g>\n",
       "     </g>\n",
       "     <g id=\"text_2\">\n",
       "      <!-- −2 -->\n",
       "      <g transform=\"translate(123.510527 357.477813) scale(0.14 -0.14)\">\n",
       "       <defs>\n",
       "        <path id=\"DejaVuSans-32\" d=\"M 1228 531 \n",
       "L 3431 531 \n",
       "L 3431 0 \n",
       "L 469 0 \n",
       "L 469 531 \n",
       "Q 828 903 1448 1529 \n",
       "Q 2069 2156 2228 2338 \n",
       "Q 2531 2678 2651 2914 \n",
       "Q 2772 3150 2772 3378 \n",
       "Q 2772 3750 2511 3984 \n",
       "Q 2250 4219 1831 4219 \n",
       "Q 1534 4219 1204 4116 \n",
       "Q 875 4013 500 3803 \n",
       "L 500 4441 \n",
       "Q 881 4594 1212 4672 \n",
       "Q 1544 4750 1819 4750 \n",
       "Q 2544 4750 2975 4387 \n",
       "Q 3406 4025 3406 3419 \n",
       "Q 3406 3131 3298 2873 \n",
       "Q 3191 2616 2906 2266 \n",
       "Q 2828 2175 2409 1742 \n",
       "Q 1991 1309 1228 531 \n",
       "z\n",
       "\" transform=\"scale(0.015625)\"/>\n",
       "       </defs>\n",
       "       <use xlink:href=\"#DejaVuSans-2212\"/>\n",
       "       <use xlink:href=\"#DejaVuSans-32\" x=\"83.789062\"/>\n",
       "      </g>\n",
       "     </g>\n",
       "    </g>\n",
       "    <g id=\"xtick_3\">\n",
       "     <g id=\"line2d_3\">\n",
       "      <g>\n",
       "       <use xlink:href=\"#m6c2e2e7f5a\" x=\"210.351727\" y=\"339.84\" style=\"stroke: #000000; stroke-width: 0.8\"/>\n",
       "      </g>\n",
       "     </g>\n",
       "     <g id=\"text_3\">\n",
       "      <!-- 0 -->\n",
       "      <g transform=\"translate(205.897977 357.477813) scale(0.14 -0.14)\">\n",
       "       <defs>\n",
       "        <path id=\"DejaVuSans-30\" d=\"M 2034 4250 \n",
       "Q 1547 4250 1301 3770 \n",
       "Q 1056 3291 1056 2328 \n",
       "Q 1056 1369 1301 889 \n",
       "Q 1547 409 2034 409 \n",
       "Q 2525 409 2770 889 \n",
       "Q 3016 1369 3016 2328 \n",
       "Q 3016 3291 2770 3770 \n",
       "Q 2525 4250 2034 4250 \n",
       "z\n",
       "M 2034 4750 \n",
       "Q 2819 4750 3233 4129 \n",
       "Q 3647 3509 3647 2328 \n",
       "Q 3647 1150 3233 529 \n",
       "Q 2819 -91 2034 -91 \n",
       "Q 1250 -91 836 529 \n",
       "Q 422 1150 422 2328 \n",
       "Q 422 3509 836 4129 \n",
       "Q 1250 4750 2034 4750 \n",
       "z\n",
       "\" transform=\"scale(0.015625)\"/>\n",
       "       </defs>\n",
       "       <use xlink:href=\"#DejaVuSans-30\"/>\n",
       "      </g>\n",
       "     </g>\n",
       "    </g>\n",
       "    <g id=\"xtick_4\">\n",
       "     <g id=\"line2d_4\">\n",
       "      <g>\n",
       "       <use xlink:href=\"#m6c2e2e7f5a\" x=\"286.873396\" y=\"339.84\" style=\"stroke: #000000; stroke-width: 0.8\"/>\n",
       "      </g>\n",
       "     </g>\n",
       "     <g id=\"text_4\">\n",
       "      <!-- 2 -->\n",
       "      <g transform=\"translate(282.419646 357.477813) scale(0.14 -0.14)\">\n",
       "       <use xlink:href=\"#DejaVuSans-32\"/>\n",
       "      </g>\n",
       "     </g>\n",
       "    </g>\n",
       "    <g id=\"xtick_5\">\n",
       "     <g id=\"line2d_5\">\n",
       "      <g>\n",
       "       <use xlink:href=\"#m6c2e2e7f5a\" x=\"363.395064\" y=\"339.84\" style=\"stroke: #000000; stroke-width: 0.8\"/>\n",
       "      </g>\n",
       "     </g>\n",
       "     <g id=\"text_5\">\n",
       "      <!-- 4 -->\n",
       "      <g transform=\"translate(358.941314 357.477813) scale(0.14 -0.14)\">\n",
       "       <use xlink:href=\"#DejaVuSans-34\"/>\n",
       "      </g>\n",
       "     </g>\n",
       "    </g>\n",
       "   </g>\n",
       "   <g id=\"matplotlib.axis_2\">\n",
       "    <g id=\"ytick_1\">\n",
       "     <g id=\"line2d_6\">\n",
       "      <defs>\n",
       "       <path id=\"m5e53830ae6\" d=\"M 0 0 \n",
       "L -3.5 0 \n",
       "\" style=\"stroke: #000000; stroke-width: 0.8\"/>\n",
       "      </defs>\n",
       "      <g>\n",
       "       <use xlink:href=\"#m5e53830ae6\" x=\"43.746563\" y=\"301.023009\" style=\"stroke: #000000; stroke-width: 0.8\"/>\n",
       "      </g>\n",
       "     </g>\n",
       "     <g id=\"text_6\">\n",
       "      <!-- −10 -->\n",
       "      <g transform=\"translate(7.2 306.341915) scale(0.14 -0.14)\">\n",
       "       <defs>\n",
       "        <path id=\"DejaVuSans-31\" d=\"M 794 531 \n",
       "L 1825 531 \n",
       "L 1825 4091 \n",
       "L 703 3866 \n",
       "L 703 4441 \n",
       "L 1819 4666 \n",
       "L 2450 4666 \n",
       "L 2450 531 \n",
       "L 3481 531 \n",
       "L 3481 0 \n",
       "L 794 0 \n",
       "L 794 531 \n",
       "z\n",
       "\" transform=\"scale(0.015625)\"/>\n",
       "       </defs>\n",
       "       <use xlink:href=\"#DejaVuSans-2212\"/>\n",
       "       <use xlink:href=\"#DejaVuSans-31\" x=\"83.789062\"/>\n",
       "       <use xlink:href=\"#DejaVuSans-30\" x=\"147.412109\"/>\n",
       "      </g>\n",
       "     </g>\n",
       "    </g>\n",
       "    <g id=\"ytick_2\">\n",
       "     <g id=\"line2d_7\">\n",
       "      <g>\n",
       "       <use xlink:href=\"#m5e53830ae6\" x=\"43.746563\" y=\"237.666358\" style=\"stroke: #000000; stroke-width: 0.8\"/>\n",
       "      </g>\n",
       "     </g>\n",
       "     <g id=\"text_7\">\n",
       "      <!-- −5 -->\n",
       "      <g transform=\"translate(16.1075 242.985264) scale(0.14 -0.14)\">\n",
       "       <defs>\n",
       "        <path id=\"DejaVuSans-35\" d=\"M 691 4666 \n",
       "L 3169 4666 \n",
       "L 3169 4134 \n",
       "L 1269 4134 \n",
       "L 1269 2991 \n",
       "Q 1406 3038 1543 3061 \n",
       "Q 1681 3084 1819 3084 \n",
       "Q 2600 3084 3056 2656 \n",
       "Q 3513 2228 3513 1497 \n",
       "Q 3513 744 3044 326 \n",
       "Q 2575 -91 1722 -91 \n",
       "Q 1428 -91 1123 -41 \n",
       "Q 819 9 494 109 \n",
       "L 494 744 \n",
       "Q 775 591 1075 516 \n",
       "Q 1375 441 1709 441 \n",
       "Q 2250 441 2565 725 \n",
       "Q 2881 1009 2881 1497 \n",
       "Q 2881 1984 2565 2268 \n",
       "Q 2250 2553 1709 2553 \n",
       "Q 1456 2553 1204 2497 \n",
       "Q 953 2441 691 2322 \n",
       "L 691 4666 \n",
       "z\n",
       "\" transform=\"scale(0.015625)\"/>\n",
       "       </defs>\n",
       "       <use xlink:href=\"#DejaVuSans-2212\"/>\n",
       "       <use xlink:href=\"#DejaVuSans-35\" x=\"83.789062\"/>\n",
       "      </g>\n",
       "     </g>\n",
       "    </g>\n",
       "    <g id=\"ytick_3\">\n",
       "     <g id=\"line2d_8\">\n",
       "      <g>\n",
       "       <use xlink:href=\"#m5e53830ae6\" x=\"43.746563\" y=\"174.309708\" style=\"stroke: #000000; stroke-width: 0.8\"/>\n",
       "      </g>\n",
       "     </g>\n",
       "     <g id=\"text_8\">\n",
       "      <!-- 0 -->\n",
       "      <g transform=\"translate(27.839063 179.628614) scale(0.14 -0.14)\">\n",
       "       <use xlink:href=\"#DejaVuSans-30\"/>\n",
       "      </g>\n",
       "     </g>\n",
       "    </g>\n",
       "    <g id=\"ytick_4\">\n",
       "     <g id=\"line2d_9\">\n",
       "      <g>\n",
       "       <use xlink:href=\"#m5e53830ae6\" x=\"43.746563\" y=\"110.953057\" style=\"stroke: #000000; stroke-width: 0.8\"/>\n",
       "      </g>\n",
       "     </g>\n",
       "     <g id=\"text_9\">\n",
       "      <!-- 5 -->\n",
       "      <g transform=\"translate(27.839063 116.271963) scale(0.14 -0.14)\">\n",
       "       <use xlink:href=\"#DejaVuSans-35\"/>\n",
       "      </g>\n",
       "     </g>\n",
       "    </g>\n",
       "    <g id=\"ytick_5\">\n",
       "     <g id=\"line2d_10\">\n",
       "      <g>\n",
       "       <use xlink:href=\"#m5e53830ae6\" x=\"43.746563\" y=\"47.596407\" style=\"stroke: #000000; stroke-width: 0.8\"/>\n",
       "      </g>\n",
       "     </g>\n",
       "     <g id=\"text_10\">\n",
       "      <!-- 10 -->\n",
       "      <g transform=\"translate(18.931563 52.915313) scale(0.14 -0.14)\">\n",
       "       <use xlink:href=\"#DejaVuSans-31\"/>\n",
       "       <use xlink:href=\"#DejaVuSans-30\" x=\"63.623047\"/>\n",
       "      </g>\n",
       "     </g>\n",
       "    </g>\n",
       "   </g>\n",
       "   <g id=\"line2d_11\">\n",
       "    <defs>\n",
       "     <path id=\"m515da0fc23\" d=\"M 0 3 \n",
       "C 0.795609 3 1.55874 2.683901 2.12132 2.12132 \n",
       "C 2.683901 1.55874 3 0.795609 3 0 \n",
       "C 3 -0.795609 2.683901 -1.55874 2.12132 -2.12132 \n",
       "C 1.55874 -2.683901 0.795609 -3 0 -3 \n",
       "C -0.795609 -3 -1.55874 -2.683901 -2.12132 -2.12132 \n",
       "C -2.683901 -1.55874 -3 -0.795609 -3 0 \n",
       "C -3 0.795609 -2.683901 1.55874 -2.12132 2.12132 \n",
       "C -1.55874 2.683901 -0.795609 3 0 3 \n",
       "z\n",
       "\" style=\"stroke: #000000\"/>\n",
       "    </defs>\n",
       "    <g clip-path=\"url(#pacbba18c18)\">\n",
       "     <use xlink:href=\"#m515da0fc23\" x=\"108.570062\" y=\"275.434717\" style=\"stroke: #000000\"/>\n",
       "    </g>\n",
       "   </g>\n",
       "   <g id=\"line2d_12\">\n",
       "    <g clip-path=\"url(#pacbba18c18)\">\n",
       "     <use xlink:href=\"#m515da0fc23\" x=\"286.264451\" y=\"98.886743\" style=\"stroke: #000000\"/>\n",
       "    </g>\n",
       "   </g>\n",
       "   <g id=\"line2d_13\">\n",
       "    <g clip-path=\"url(#pacbba18c18)\">\n",
       "     <use xlink:href=\"#m515da0fc23\" x=\"216.623711\" y=\"168.078188\" style=\"stroke: #000000\"/>\n",
       "    </g>\n",
       "   </g>\n",
       "   <g id=\"line2d_14\">\n",
       "    <g clip-path=\"url(#pacbba18c18)\">\n",
       "     <use xlink:href=\"#m515da0fc23\" x=\"359.612342\" y=\"26.012064\" style=\"stroke: #000000\"/>\n",
       "    </g>\n",
       "   </g>\n",
       "   <g id=\"line2d_15\">\n",
       "    <g clip-path=\"url(#pacbba18c18)\">\n",
       "     <use xlink:href=\"#m515da0fc23\" x=\"282.457703\" y=\"102.668931\" style=\"stroke: #000000\"/>\n",
       "    </g>\n",
       "   </g>\n",
       "   <g id=\"line2d_16\">\n",
       "    <g clip-path=\"url(#pacbba18c18)\">\n",
       "     <use xlink:href=\"#m515da0fc23\" x=\"215.919384\" y=\"168.777971\" style=\"stroke: #000000\"/>\n",
       "    </g>\n",
       "   </g>\n",
       "   <g id=\"line2d_17\">\n",
       "    <g clip-path=\"url(#pacbba18c18)\">\n",
       "     <use xlink:href=\"#m515da0fc23\" x=\"317.446512\" y=\"67.905857\" style=\"stroke: #000000\"/>\n",
       "    </g>\n",
       "   </g>\n",
       "   <g id=\"line2d_18\">\n",
       "    <g clip-path=\"url(#pacbba18c18)\">\n",
       "     <use xlink:href=\"#m515da0fc23\" x=\"174.582533\" y=\"209.848132\" style=\"stroke: #000000\"/>\n",
       "    </g>\n",
       "   </g>\n",
       "   <g id=\"line2d_19\">\n",
       "    <g clip-path=\"url(#pacbba18c18)\">\n",
       "     <use xlink:href=\"#m515da0fc23\" x=\"122.988811\" y=\"261.108992\" style=\"stroke: #000000\"/>\n",
       "    </g>\n",
       "   </g>\n",
       "   <g id=\"line2d_20\">\n",
       "    <g clip-path=\"url(#pacbba18c18)\">\n",
       "     <use xlink:href=\"#m515da0fc23\" x=\"262.48978\" y=\"122.508029\" style=\"stroke: #000000\"/>\n",
       "    </g>\n",
       "   </g>\n",
       "   <g id=\"line2d_21\">\n",
       "    <g clip-path=\"url(#pacbba18c18)\">\n",
       "     <use xlink:href=\"#m515da0fc23\" x=\"184.114995\" y=\"200.377171\" style=\"stroke: #000000\"/>\n",
       "    </g>\n",
       "   </g>\n",
       "   <g id=\"line2d_22\">\n",
       "    <g clip-path=\"url(#pacbba18c18)\">\n",
       "     <use xlink:href=\"#m515da0fc23\" x=\"245.724852\" y=\"139.164796\" style=\"stroke: #000000\"/>\n",
       "    </g>\n",
       "   </g>\n",
       "   <g id=\"line2d_23\">\n",
       "    <g clip-path=\"url(#pacbba18c18)\">\n",
       "     <use xlink:href=\"#m515da0fc23\" x=\"215.761399\" y=\"168.934937\" style=\"stroke: #000000\"/>\n",
       "    </g>\n",
       "   </g>\n",
       "   <g id=\"line2d_24\">\n",
       "    <g clip-path=\"url(#pacbba18c18)\">\n",
       "     <use xlink:href=\"#m515da0fc23\" x=\"76.812994\" y=\"306.9869\" style=\"stroke: #000000\"/>\n",
       "    </g>\n",
       "   </g>\n",
       "   <g id=\"line2d_25\">\n",
       "    <g clip-path=\"url(#pacbba18c18)\">\n",
       "     <use xlink:href=\"#m515da0fc23\" x=\"156.914982\" y=\"227.401699\" style=\"stroke: #000000\"/>\n",
       "    </g>\n",
       "   </g>\n",
       "   <g id=\"line2d_26\">\n",
       "    <g clip-path=\"url(#pacbba18c18)\">\n",
       "     <use xlink:href=\"#m515da0fc23\" x=\"229.812761\" y=\"154.974229\" style=\"stroke: #000000\"/>\n",
       "    </g>\n",
       "   </g>\n",
       "   <g id=\"line2d_27\">\n",
       "    <g clip-path=\"url(#pacbba18c18)\">\n",
       "     <use xlink:href=\"#m515da0fc23\" x=\"149.467598\" y=\"234.801036\" style=\"stroke: #000000\"/>\n",
       "    </g>\n",
       "   </g>\n",
       "   <g id=\"line2d_28\">\n",
       "    <g clip-path=\"url(#pacbba18c18)\">\n",
       "     <use xlink:href=\"#m515da0fc23\" x=\"170.518801\" y=\"213.885647\" style=\"stroke: #000000\"/>\n",
       "    </g>\n",
       "   </g>\n",
       "   <g id=\"line2d_29\">\n",
       "    <g clip-path=\"url(#pacbba18c18)\">\n",
       "     <use xlink:href=\"#m515da0fc23\" x=\"165.975305\" y=\"218.39983\" style=\"stroke: #000000\"/>\n",
       "    </g>\n",
       "   </g>\n",
       "   <g id=\"line2d_30\">\n",
       "    <g clip-path=\"url(#pacbba18c18)\">\n",
       "     <use xlink:href=\"#m515da0fc23\" x=\"149.465084\" y=\"234.803534\" style=\"stroke: #000000\"/>\n",
       "    </g>\n",
       "   </g>\n",
       "   <g id=\"line2d_31\">\n",
       "    <g clip-path=\"url(#pacbba18c18)\">\n",
       "     <use xlink:href=\"#m515da0fc23\" x=\"130.631207\" y=\"253.515902\" style=\"stroke: #000000\"/>\n",
       "    </g>\n",
       "   </g>\n",
       "   <g id=\"line2d_32\">\n",
       "    <g clip-path=\"url(#pacbba18c18)\">\n",
       "     <use xlink:href=\"#m515da0fc23\" x=\"321.887302\" y=\"63.493717\" style=\"stroke: #000000\"/>\n",
       "    </g>\n",
       "   </g>\n",
       "   <g id=\"line2d_33\">\n",
       "    <g clip-path=\"url(#pacbba18c18)\">\n",
       "     <use xlink:href=\"#m515da0fc23\" x=\"348.089001\" y=\"37.461061\" style=\"stroke: #000000\"/>\n",
       "    </g>\n",
       "   </g>\n",
       "   <g id=\"line2d_34\">\n",
       "    <g clip-path=\"url(#pacbba18c18)\">\n",
       "     <use xlink:href=\"#m515da0fc23\" x=\"286.857279\" y=\"98.29774\" style=\"stroke: #000000\"/>\n",
       "    </g>\n",
       "   </g>\n",
       "   <g id=\"line2d_35\">\n",
       "    <g clip-path=\"url(#pacbba18c18)\">\n",
       "     <use xlink:href=\"#m515da0fc23\" x=\"229.53211\" y=\"155.253068\" style=\"stroke: #000000\"/>\n",
       "    </g>\n",
       "   </g>\n",
       "   <g id=\"line2d_36\">\n",
       "    <g clip-path=\"url(#pacbba18c18)\">\n",
       "     <use xlink:href=\"#m515da0fc23\" x=\"70.020438\" y=\"313.735633\" style=\"stroke: #000000\"/>\n",
       "    </g>\n",
       "   </g>\n",
       "   <g id=\"line2d_37\">\n",
       "    <g clip-path=\"url(#pacbba18c18)\">\n",
       "     <use xlink:href=\"#m515da0fc23\" x=\"205.977568\" y=\"178.655646\" style=\"stroke: #000000\"/>\n",
       "    </g>\n",
       "   </g>\n",
       "   <g id=\"line2d_38\">\n",
       "    <g clip-path=\"url(#pacbba18c18)\">\n",
       "     <use xlink:href=\"#m515da0fc23\" x=\"188.936716\" y=\"195.586557\" style=\"stroke: #000000\"/>\n",
       "    </g>\n",
       "   </g>\n",
       "   <g id=\"line2d_39\">\n",
       "    <g clip-path=\"url(#pacbba18c18)\">\n",
       "     <use xlink:href=\"#m515da0fc23\" x=\"146.633029\" y=\"237.617317\" style=\"stroke: #000000\"/>\n",
       "    </g>\n",
       "   </g>\n",
       "   <g id=\"line2d_40\">\n",
       "    <g clip-path=\"url(#pacbba18c18)\">\n",
       "     <use xlink:href=\"#m515da0fc23\" x=\"165.170288\" y=\"219.199653\" style=\"stroke: #000000\"/>\n",
       "    </g>\n",
       "   </g>\n",
       "   <g id=\"line2d_41\">\n",
       "    <g clip-path=\"url(#pacbba18c18)\">\n",
       "     <use xlink:href=\"#m515da0fc23\" x=\"341.625056\" y=\"43.883303\" style=\"stroke: #000000\"/>\n",
       "    </g>\n",
       "   </g>\n",
       "   <g id=\"line2d_42\">\n",
       "    <g clip-path=\"url(#pacbba18c18)\">\n",
       "     <use xlink:href=\"#m515da0fc23\" x=\"135.1416\" y=\"249.034608\" style=\"stroke: #000000\"/>\n",
       "    </g>\n",
       "   </g>\n",
       "   <g id=\"line2d_43\">\n",
       "    <g clip-path=\"url(#pacbba18c18)\">\n",
       "     <use xlink:href=\"#m515da0fc23\" x=\"275.12403\" y=\"109.955291\" style=\"stroke: #000000\"/>\n",
       "    </g>\n",
       "   </g>\n",
       "   <g id=\"line2d_44\">\n",
       "    <g clip-path=\"url(#pacbba18c18)\">\n",
       "     <use xlink:href=\"#m515da0fc23\" x=\"240.62599\" y=\"144.230763\" style=\"stroke: #000000\"/>\n",
       "    </g>\n",
       "   </g>\n",
       "   <g id=\"line2d_45\">\n",
       "    <g clip-path=\"url(#pacbba18c18)\">\n",
       "     <use xlink:href=\"#m515da0fc23\" x=\"290.960701\" y=\"94.220791\" style=\"stroke: #000000\"/>\n",
       "    </g>\n",
       "   </g>\n",
       "   <g id=\"line2d_46\">\n",
       "    <g clip-path=\"url(#pacbba18c18)\">\n",
       "     <use xlink:href=\"#m515da0fc23\" x=\"346.93788\" y=\"38.604755\" style=\"stroke: #000000\"/>\n",
       "    </g>\n",
       "   </g>\n",
       "   <g id=\"line2d_47\">\n",
       "    <g clip-path=\"url(#pacbba18c18)\">\n",
       "     <use xlink:href=\"#m515da0fc23\" x=\"124.727631\" y=\"259.38139\" style=\"stroke: #000000\"/>\n",
       "    </g>\n",
       "   </g>\n",
       "   <g id=\"line2d_48\">\n",
       "    <g clip-path=\"url(#pacbba18c18)\">\n",
       "     <use xlink:href=\"#m515da0fc23\" x=\"156.560096\" y=\"227.754296\" style=\"stroke: #000000\"/>\n",
       "    </g>\n",
       "   </g>\n",
       "   <g id=\"line2d_49\">\n",
       "    <g clip-path=\"url(#pacbba18c18)\">\n",
       "     <use xlink:href=\"#m515da0fc23\" x=\"252.667221\" y=\"132.267216\" style=\"stroke: #000000\"/>\n",
       "    </g>\n",
       "   </g>\n",
       "   <g id=\"line2d_50\">\n",
       "    <g clip-path=\"url(#pacbba18c18)\">\n",
       "     <use xlink:href=\"#m515da0fc23\" x=\"351.128175\" y=\"34.441495\" style=\"stroke: #000000\"/>\n",
       "    </g>\n",
       "   </g>\n",
       "   <g id=\"line2d_51\">\n",
       "    <g clip-path=\"url(#pacbba18c18)\">\n",
       "     <use xlink:href=\"#m515da0fc23\" x=\"291.969658\" y=\"93.218344\" style=\"stroke: #000000\"/>\n",
       "    </g>\n",
       "   </g>\n",
       "   <g id=\"line2d_52\">\n",
       "    <g clip-path=\"url(#pacbba18c18)\">\n",
       "     <use xlink:href=\"#m515da0fc23\" x=\"306.981665\" y=\"78.303188\" style=\"stroke: #000000\"/>\n",
       "    </g>\n",
       "   </g>\n",
       "   <g id=\"line2d_53\">\n",
       "    <g clip-path=\"url(#pacbba18c18)\">\n",
       "     <use xlink:href=\"#m515da0fc23\" x=\"71.518505\" y=\"312.247231\" style=\"stroke: #000000\"/>\n",
       "    </g>\n",
       "   </g>\n",
       "   <g id=\"line2d_54\">\n",
       "    <g clip-path=\"url(#pacbba18c18)\">\n",
       "     <use xlink:href=\"#m515da0fc23\" x=\"58.964744\" y=\"324.72\" style=\"stroke: #000000\"/>\n",
       "    </g>\n",
       "   </g>\n",
       "   <g id=\"line2d_55\">\n",
       "    <g clip-path=\"url(#pacbba18c18)\">\n",
       "     <use xlink:href=\"#m515da0fc23\" x=\"305.573733\" y=\"79.702037\" style=\"stroke: #000000\"/>\n",
       "    </g>\n",
       "   </g>\n",
       "   <g id=\"line2d_56\">\n",
       "    <g clip-path=\"url(#pacbba18c18)\">\n",
       "     <use xlink:href=\"#m515da0fc23\" x=\"360.919297\" y=\"24.713541\" style=\"stroke: #000000\"/>\n",
       "    </g>\n",
       "   </g>\n",
       "   <g id=\"line2d_57\">\n",
       "    <g clip-path=\"url(#pacbba18c18)\">\n",
       "     <use xlink:href=\"#m515da0fc23\" x=\"217.563\" y=\"167.144959\" style=\"stroke: #000000\"/>\n",
       "    </g>\n",
       "   </g>\n",
       "   <g id=\"line2d_58\">\n",
       "    <g clip-path=\"url(#pacbba18c18)\">\n",
       "     <use xlink:href=\"#m515da0fc23\" x=\"324.922761\" y=\"60.477841\" style=\"stroke: #000000\"/>\n",
       "    </g>\n",
       "   </g>\n",
       "   <g id=\"line2d_59\">\n",
       "    <g clip-path=\"url(#pacbba18c18)\">\n",
       "     <use xlink:href=\"#m515da0fc23\" x=\"340.580007\" y=\"44.92161\" style=\"stroke: #000000\"/>\n",
       "    </g>\n",
       "   </g>\n",
       "   <g id=\"line2d_60\">\n",
       "    <g clip-path=\"url(#pacbba18c18)\">\n",
       "     <use xlink:href=\"#m515da0fc23\" x=\"297.24878\" y=\"87.973281\" style=\"stroke: #000000\"/>\n",
       "    </g>\n",
       "   </g>\n",
       "   <g id=\"line2d_61\">\n",
       "    <g clip-path=\"url(#pacbba18c18)\">\n",
       "     <use xlink:href=\"#m515da0fc23\" x=\"200.208742\" y=\"184.387254\" style=\"stroke: #000000\"/>\n",
       "    </g>\n",
       "   </g>\n",
       "   <g id=\"line2d_62\">\n",
       "    <g clip-path=\"url(#pacbba18c18)\">\n",
       "     <use xlink:href=\"#m515da0fc23\" x=\"240.194735\" y=\"144.659235\" style=\"stroke: #000000\"/>\n",
       "    </g>\n",
       "   </g>\n",
       "   <g id=\"line2d_63\">\n",
       "    <g clip-path=\"url(#pacbba18c18)\">\n",
       "     <use xlink:href=\"#m515da0fc23\" x=\"208.158891\" y=\"176.488396\" style=\"stroke: #000000\"/>\n",
       "    </g>\n",
       "   </g>\n",
       "   <g id=\"line2d_64\">\n",
       "    <g clip-path=\"url(#pacbba18c18)\">\n",
       "     <use xlink:href=\"#m515da0fc23\" x=\"279.09014\" y=\"106.014768\" style=\"stroke: #000000\"/>\n",
       "    </g>\n",
       "   </g>\n",
       "   <g id=\"line2d_65\">\n",
       "    <g clip-path=\"url(#pacbba18c18)\">\n",
       "     <use xlink:href=\"#m515da0fc23\" x=\"237.995251\" y=\"146.844528\" style=\"stroke: #000000\"/>\n",
       "    </g>\n",
       "   </g>\n",
       "   <g id=\"line2d_66\">\n",
       "    <g clip-path=\"url(#pacbba18c18)\">\n",
       "     <use xlink:href=\"#m515da0fc23\" x=\"236.68599\" y=\"148.145343\" style=\"stroke: #000000\"/>\n",
       "    </g>\n",
       "   </g>\n",
       "   <g id=\"line2d_67\">\n",
       "    <g clip-path=\"url(#pacbba18c18)\">\n",
       "     <use xlink:href=\"#m515da0fc23\" x=\"297.261702\" y=\"87.960442\" style=\"stroke: #000000\"/>\n",
       "    </g>\n",
       "   </g>\n",
       "   <g id=\"line2d_68\">\n",
       "    <g clip-path=\"url(#pacbba18c18)\">\n",
       "     <use xlink:href=\"#m515da0fc23\" x=\"168.171715\" y=\"216.21759\" style=\"stroke: #000000\"/>\n",
       "    </g>\n",
       "   </g>\n",
       "   <g id=\"line2d_69\">\n",
       "    <g clip-path=\"url(#pacbba18c18)\">\n",
       "     <use xlink:href=\"#m515da0fc23\" x=\"321.943791\" y=\"63.437593\" style=\"stroke: #000000\"/>\n",
       "    </g>\n",
       "   </g>\n",
       "   <g id=\"line2d_70\">\n",
       "    <g clip-path=\"url(#pacbba18c18)\">\n",
       "     <use xlink:href=\"#m515da0fc23\" x=\"270.326079\" y=\"114.722287\" style=\"stroke: #000000\"/>\n",
       "    </g>\n",
       "   </g>\n",
       "   <g id=\"line2d_71\">\n",
       "    <g clip-path=\"url(#pacbba18c18)\">\n",
       "     <use xlink:href=\"#m515da0fc23\" x=\"345.279037\" y=\"40.252896\" style=\"stroke: #000000\"/>\n",
       "    </g>\n",
       "   </g>\n",
       "   <g id=\"line2d_72\">\n",
       "    <g clip-path=\"url(#pacbba18c18)\">\n",
       "     <use xlink:href=\"#m515da0fc23\" x=\"305.947067\" y=\"79.331112\" style=\"stroke: #000000\"/>\n",
       "    </g>\n",
       "   </g>\n",
       "   <g id=\"line2d_73\">\n",
       "    <g clip-path=\"url(#pacbba18c18)\">\n",
       "     <use xlink:href=\"#m515da0fc23\" x=\"238.792684\" y=\"146.052241\" style=\"stroke: #000000\"/>\n",
       "    </g>\n",
       "   </g>\n",
       "   <g id=\"line2d_74\">\n",
       "    <g clip-path=\"url(#pacbba18c18)\">\n",
       "     <use xlink:href=\"#m515da0fc23\" x=\"116.770852\" y=\"267.286835\" style=\"stroke: #000000\"/>\n",
       "    </g>\n",
       "   </g>\n",
       "   <g id=\"line2d_75\">\n",
       "    <g clip-path=\"url(#pacbba18c18)\">\n",
       "     <use xlink:href=\"#m515da0fc23\" x=\"284.524002\" y=\"100.615964\" style=\"stroke: #000000\"/>\n",
       "    </g>\n",
       "   </g>\n",
       "   <g id=\"line2d_76\">\n",
       "    <g clip-path=\"url(#pacbba18c18)\">\n",
       "     <use xlink:href=\"#m515da0fc23\" x=\"253.034544\" y=\"131.902263\" style=\"stroke: #000000\"/>\n",
       "    </g>\n",
       "   </g>\n",
       "   <g id=\"line2d_77\">\n",
       "    <g clip-path=\"url(#pacbba18c18)\">\n",
       "     <use xlink:href=\"#m515da0fc23\" x=\"63.145597\" y=\"320.566121\" style=\"stroke: #000000\"/>\n",
       "    </g>\n",
       "   </g>\n",
       "   <g id=\"line2d_78\">\n",
       "    <g clip-path=\"url(#pacbba18c18)\">\n",
       "     <use xlink:href=\"#m515da0fc23\" x=\"324.537524\" y=\"60.860593\" style=\"stroke: #000000\"/>\n",
       "    </g>\n",
       "   </g>\n",
       "   <g id=\"line2d_79\">\n",
       "    <g clip-path=\"url(#pacbba18c18)\">\n",
       "     <use xlink:href=\"#m515da0fc23\" x=\"174.772871\" y=\"209.659022\" style=\"stroke: #000000\"/>\n",
       "    </g>\n",
       "   </g>\n",
       "   <g id=\"line2d_80\">\n",
       "    <g clip-path=\"url(#pacbba18c18)\">\n",
       "     <use xlink:href=\"#m515da0fc23\" x=\"360.122957\" y=\"25.504743\" style=\"stroke: #000000\"/>\n",
       "    </g>\n",
       "   </g>\n",
       "   <g id=\"line2d_81\">\n",
       "    <g clip-path=\"url(#pacbba18c18)\">\n",
       "     <use xlink:href=\"#m515da0fc23\" x=\"220.605028\" y=\"164.122557\" style=\"stroke: #000000\"/>\n",
       "    </g>\n",
       "   </g>\n",
       "   <g id=\"line2d_82\">\n",
       "    <g clip-path=\"url(#pacbba18c18)\">\n",
       "     <use xlink:href=\"#m515da0fc23\" x=\"346.253091\" y=\"39.285127\" style=\"stroke: #000000\"/>\n",
       "    </g>\n",
       "   </g>\n",
       "   <g id=\"line2d_83\">\n",
       "    <g clip-path=\"url(#pacbba18c18)\">\n",
       "     <use xlink:href=\"#m515da0fc23\" x=\"339.666742\" y=\"45.828983\" style=\"stroke: #000000\"/>\n",
       "    </g>\n",
       "   </g>\n",
       "   <g id=\"line2d_84\">\n",
       "    <g clip-path=\"url(#pacbba18c18)\">\n",
       "     <use xlink:href=\"#m515da0fc23\" x=\"237.048002\" y=\"147.785666\" style=\"stroke: #000000\"/>\n",
       "    </g>\n",
       "   </g>\n",
       "   <g id=\"line2d_85\">\n",
       "    <g clip-path=\"url(#pacbba18c18)\">\n",
       "     <use xlink:href=\"#m515da0fc23\" x=\"220.925527\" y=\"163.804126\" style=\"stroke: #000000\"/>\n",
       "    </g>\n",
       "   </g>\n",
       "   <g id=\"line2d_86\">\n",
       "    <g clip-path=\"url(#pacbba18c18)\">\n",
       "     <use xlink:href=\"#m515da0fc23\" x=\"177.025048\" y=\"207.421375\" style=\"stroke: #000000\"/>\n",
       "    </g>\n",
       "   </g>\n",
       "   <g id=\"line2d_87\">\n",
       "    <g clip-path=\"url(#pacbba18c18)\">\n",
       "     <use xlink:href=\"#m515da0fc23\" x=\"258.090804\" y=\"126.878624\" style=\"stroke: #000000\"/>\n",
       "    </g>\n",
       "   </g>\n",
       "   <g id=\"line2d_88\">\n",
       "    <g clip-path=\"url(#pacbba18c18)\">\n",
       "     <use xlink:href=\"#m515da0fc23\" x=\"170.602964\" y=\"213.802027\" style=\"stroke: #000000\"/>\n",
       "    </g>\n",
       "   </g>\n",
       "   <g id=\"line2d_89\">\n",
       "    <g clip-path=\"url(#pacbba18c18)\">\n",
       "     <use xlink:href=\"#m515da0fc23\" x=\"363.328381\" y=\"22.32\" style=\"stroke: #000000\"/>\n",
       "    </g>\n",
       "   </g>\n",
       "   <g id=\"line2d_90\">\n",
       "    <g clip-path=\"url(#pacbba18c18)\">\n",
       "     <use xlink:href=\"#m515da0fc23\" x=\"136.795216\" y=\"247.39166\" style=\"stroke: #000000\"/>\n",
       "    </g>\n",
       "   </g>\n",
       "   <g id=\"line2d_91\">\n",
       "    <g clip-path=\"url(#pacbba18c18)\">\n",
       "     <use xlink:href=\"#m515da0fc23\" x=\"328.882427\" y=\"56.543722\" style=\"stroke: #000000\"/>\n",
       "    </g>\n",
       "   </g>\n",
       "   <g id=\"line2d_92\">\n",
       "    <g clip-path=\"url(#pacbba18c18)\">\n",
       "     <use xlink:href=\"#m515da0fc23\" x=\"101.658996\" y=\"282.301196\" style=\"stroke: #000000\"/>\n",
       "    </g>\n",
       "   </g>\n",
       "   <g id=\"line2d_93\">\n",
       "    <g clip-path=\"url(#pacbba18c18)\">\n",
       "     <use xlink:href=\"#m515da0fc23\" x=\"190.890096\" y=\"193.64578\" style=\"stroke: #000000\"/>\n",
       "    </g>\n",
       "   </g>\n",
       "   <g id=\"line2d_94\">\n",
       "    <g clip-path=\"url(#pacbba18c18)\">\n",
       "     <use xlink:href=\"#m515da0fc23\" x=\"197.597386\" y=\"186.981763\" style=\"stroke: #000000\"/>\n",
       "    </g>\n",
       "   </g>\n",
       "   <g id=\"line2d_95\">\n",
       "    <g clip-path=\"url(#pacbba18c18)\">\n",
       "     <use xlink:href=\"#m515da0fc23\" x=\"253.60967\" y=\"131.330848\" style=\"stroke: #000000\"/>\n",
       "    </g>\n",
       "   </g>\n",
       "   <g id=\"line2d_96\">\n",
       "    <g clip-path=\"url(#pacbba18c18)\">\n",
       "     <use xlink:href=\"#m515da0fc23\" x=\"246.833423\" y=\"138.063378\" style=\"stroke: #000000\"/>\n",
       "    </g>\n",
       "   </g>\n",
       "   <g id=\"line2d_97\">\n",
       "    <g clip-path=\"url(#pacbba18c18)\">\n",
       "     <use xlink:href=\"#m515da0fc23\" x=\"200.006057\" y=\"184.588631\" style=\"stroke: #000000\"/>\n",
       "    </g>\n",
       "   </g>\n",
       "   <g id=\"line2d_98\">\n",
       "    <g clip-path=\"url(#pacbba18c18)\">\n",
       "     <use xlink:href=\"#m515da0fc23\" x=\"74.160435\" y=\"309.622346\" style=\"stroke: #000000\"/>\n",
       "    </g>\n",
       "   </g>\n",
       "   <g id=\"line2d_99\">\n",
       "    <g clip-path=\"url(#pacbba18c18)\">\n",
       "     <use xlink:href=\"#m515da0fc23\" x=\"287.287121\" y=\"97.870671\" style=\"stroke: #000000\"/>\n",
       "    </g>\n",
       "   </g>\n",
       "   <g id=\"line2d_100\">\n",
       "    <g clip-path=\"url(#pacbba18c18)\">\n",
       "     <use xlink:href=\"#m515da0fc23\" x=\"68.516671\" y=\"315.229699\" style=\"stroke: #000000\"/>\n",
       "    </g>\n",
       "   </g>\n",
       "   <g id=\"line2d_101\">\n",
       "    <g clip-path=\"url(#pacbba18c18)\">\n",
       "     <use xlink:href=\"#m515da0fc23\" x=\"349.776098\" y=\"35.784848\" style=\"stroke: #000000\"/>\n",
       "    </g>\n",
       "   </g>\n",
       "   <g id=\"line2d_102\">\n",
       "    <g clip-path=\"url(#pacbba18c18)\">\n",
       "     <use xlink:href=\"#m515da0fc23\" x=\"278.801679\" y=\"106.301369\" style=\"stroke: #000000\"/>\n",
       "    </g>\n",
       "   </g>\n",
       "   <g id=\"line2d_103\">\n",
       "    <g clip-path=\"url(#pacbba18c18)\">\n",
       "     <use xlink:href=\"#m515da0fc23\" x=\"143.309235\" y=\"240.919667\" style=\"stroke: #000000\"/>\n",
       "    </g>\n",
       "   </g>\n",
       "   <g id=\"line2d_104\">\n",
       "    <g clip-path=\"url(#pacbba18c18)\">\n",
       "     <use xlink:href=\"#m515da0fc23\" x=\"307.118769\" y=\"78.166969\" style=\"stroke: #000000\"/>\n",
       "    </g>\n",
       "   </g>\n",
       "   <g id=\"line2d_105\">\n",
       "    <g clip-path=\"url(#pacbba18c18)\">\n",
       "     <use xlink:href=\"#m515da0fc23\" x=\"327.860211\" y=\"57.559343\" style=\"stroke: #000000\"/>\n",
       "    </g>\n",
       "   </g>\n",
       "   <g id=\"line2d_106\">\n",
       "    <g clip-path=\"url(#pacbba18c18)\">\n",
       "     <use xlink:href=\"#m515da0fc23\" x=\"213.836043\" y=\"170.847871\" style=\"stroke: #000000\"/>\n",
       "    </g>\n",
       "   </g>\n",
       "   <g id=\"line2d_107\">\n",
       "    <g clip-path=\"url(#pacbba18c18)\">\n",
       "     <use xlink:href=\"#m515da0fc23\" x=\"246.401333\" y=\"138.492679\" style=\"stroke: #000000\"/>\n",
       "    </g>\n",
       "   </g>\n",
       "   <g id=\"line2d_108\">\n",
       "    <g clip-path=\"url(#pacbba18c18)\">\n",
       "     <use xlink:href=\"#m515da0fc23\" x=\"350.907675\" y=\"34.660572\" style=\"stroke: #000000\"/>\n",
       "    </g>\n",
       "   </g>\n",
       "   <g id=\"line2d_109\">\n",
       "    <g clip-path=\"url(#pacbba18c18)\">\n",
       "     <use xlink:href=\"#m515da0fc23\" x=\"225.111984\" y=\"159.644678\" style=\"stroke: #000000\"/>\n",
       "    </g>\n",
       "   </g>\n",
       "   <g id=\"line2d_110\">\n",
       "    <g clip-path=\"url(#pacbba18c18)\">\n",
       "     <use xlink:href=\"#m515da0fc23\" x=\"337.235714\" y=\"48.244327\" style=\"stroke: #000000\"/>\n",
       "    </g>\n",
       "   </g>\n",
       "   <g id=\"patch_3\">\n",
       "    <path d=\"M 43.746563 339.84 \n",
       "L 43.746563 7.2 \n",
       "\" style=\"fill: none; stroke: #000000; stroke-width: 0.8; stroke-linejoin: miter; stroke-linecap: square\"/>\n",
       "   </g>\n",
       "   <g id=\"patch_4\">\n",
       "    <path d=\"M 378.546562 339.84 \n",
       "L 378.546562 7.2 \n",
       "\" style=\"fill: none; stroke: #000000; stroke-width: 0.8; stroke-linejoin: miter; stroke-linecap: square\"/>\n",
       "   </g>\n",
       "   <g id=\"patch_5\">\n",
       "    <path d=\"M 43.746563 339.84 \n",
       "L 378.546563 339.84 \n",
       "\" style=\"fill: none; stroke: #000000; stroke-width: 0.8; stroke-linejoin: miter; stroke-linecap: square\"/>\n",
       "   </g>\n",
       "   <g id=\"patch_6\">\n",
       "    <path d=\"M 43.746563 7.2 \n",
       "L 378.546563 7.2 \n",
       "\" style=\"fill: none; stroke: #000000; stroke-width: 0.8; stroke-linejoin: miter; stroke-linecap: square\"/>\n",
       "   </g>\n",
       "  </g>\n",
       " </g>\n",
       " <defs>\n",
       "  <clipPath id=\"pacbba18c18\">\n",
       "   <rect x=\"43.746563\" y=\"7.2\" width=\"334.8\" height=\"332.64\"/>\n",
       "  </clipPath>\n",
       " </defs>\n",
       "</svg>\n"
      ],
      "text/plain": [
       "<Figure size 600x600 with 1 Axes>"
      ]
     },
     "metadata": {},
     "output_type": "display_data"
    }
   ],
   "source": [
    "# Create vector set with one vector\n",
    "V = np.array([1, 3])\n",
    "\n",
    "# Create 100 random scalars \n",
    "scalars = np.random.uniform(-4, 4, 100)\n",
    "\n",
    "# create a figure, etc\n",
    "plt.figure(figsize=(6,6))\n",
    "\n",
    "# loop over the random scalars\n",
    "for s in scalars:\n",
    "  # create point p\n",
    "  p = V*s\n",
    "\n",
    "  # plot it\n",
    "  plt.plot(p[0],p[1],'ko')"
   ]
  },
  {
   "cell_type": "code",
   "execution_count": 7,
   "metadata": {},
   "outputs": [
    {
     "data": {
      "application/vnd.plotly.v1+json": {
       "config": {
        "plotlyServerURL": "https://plot.ly"
       },
       "data": [
        {
         "marker": {
          "color": "black",
          "size": 6
         },
         "mode": "markers",
         "type": "scatter3d",
         "x": {
          "bdata": "8jefxGg58j84uSZd75YTwNwNLSIcphHA04rSXJsUDUAz6GwQdt0jQHBYqYAt8v2/QBHlAB1OFEDkjg/UP3ImwCWMW7qZhQNAbM9iQDqdFsBYVgjorHj6vxrGwmjxOiZA5C17wYT1IcD2D/at5EsdQBTX5II5NSFAhm+PiZrIIkBtf7Q+ViEuQHSiZ7+Q7iBAXJPz95nmJ0ADNTJ+z+oWwA4giBOszCzAvqgZSf7cIcCUqUFnEm0XwL238SBFkinA+GGWjtY57z9QyFV/zqsDwNQCdZ/9QRVAyCcP6rkU/T9yoLua6b4YQMBejfaqZhzAyP6y+5kZGcDzywzOeaEiQNjd+7Z8kBHA8+j5Z/vFJkCJVGeU4ysuQEZoWXnO1BdASq7qZVKKAkCOb7Ut86EWwHbgzMt4K/6/YDa7mGd3/j/+k2a1wB0MQGgyeb+4KCDAwWNesPKsI0BwemfqrzYUQNZF3ogU5yLAC9hF+wZOEUBMp37YH4QhwBhU1BiKYxhAfkdcjUl5G8Dq3tgwtCMQQFzNz2dEdSBAnJQ9PLoxFsBXyUAYTNMVQHBaLKi6F9O/1+AUPIJ2A0Ce+nRfcjsowItPrM0XyiTAgoX1+xC5IkCOrcrwKk0hQEdmsoHDGy1AbNSDQZHY+r9s8U4KrukgwNAWxlNBPsw/BPsWqeCcHkDscKB+o4UewGpx2cKu6xRAzcFA/sKRHEA9dJvqyb8XQDa8JItBky3AA9A7/NDUDsCx+O1TxdQAQLBjr+5DTcE/AljjszGyEsARYTYB1+sEQKTKzCxtFhpAHyPPvcAIHMBriyq4vAcNwJUjZDHoEiHAHHa6p8+dIcCh8BCpPfAQwB7tP1sg/RTApd4nSYCsGkCK//GgERQjQIibQZs/Gf4/7P+RRUzuGEDvsbzu6XsUQM4auWLqgidA84nlY0E/KECiLEVE1QInQByLFawoJCfAy5O9Sj+jEUAesglQEQMdQHFcyEbL3ypAPSaej3CWEECeXrjFVxkmQBVsec8wsivAEnkCgW/LG0D8Q5LNjJcmQI5v9jDRVwjA42jspAJKG8A=",
          "dtype": "f8"
         },
         "y": {
          "bdata": "QF0Jna5f/j8DRaDNHFMgwG5soOMuah3AWx5azdY7GEArbAVj4o0wQAYfjUB79AjACjkU1sLrIEAU9wyGirQywMr09sWqRBBA2qynNVvYIsD0R1zBOg8GwGv6TNdzhjJA0KEi7YfuLcChYqI76WkoQM670oQKrixAiGRE5VZOL0CGv+vexxs5QBhkV5RGOCxAeKX1o9XqM0AuLH8+AhkjwAxw8brk/zfA5sMqz6fFLcBRDQxWj4UjwB4ZdJs5TzXApFF9IYgF+j+Y0RxqgWQQwFyC4QT+tiFAJKEMQ/A7CEBdsPEAGJ8kQPbOdc3jqifA/H5q/KrqJMA/qWpXIA0vQGgc+TAlRh3AIEJQgVH6MkAccav7kiQ5QOXWH2UB3CNAfiKHVInmDkBLMhemStwiwA27Kv85JAnAUK1G/4BjCUCp0CqXIG4XQARUHz+J7irAdqhO6HRlMEBeO1ZDPdggQGR0cjkigS/AvRIf+GDXHEDUFtNoijEtwL7wsBTzUiRA6ZB3oBLlJsCHc2lRLOYaQPAABa0cbitA2Pvd3MV+IsDIp+C+FDAiQCDsSRg30t+/CGYRMhc4EEDa0Db6iTE0wJ6XD9YTUzHALInuo3E0L0CYdvw78tUsQDxVv5bNQThAWoaYtiNfBsAIPS4RIjAswGBoenA2idc/hCaTN7uCKUAaXjCUXW8pwIXeX6IRbyFA1vY1Kc3OJ0De4NaYfcojQIJHSUlhpTjAA9gx0lixGcAoSTfhSA0MQNBQJOMb1sw/rpIlgf0oH8DjUK0rM28RQN6oqvpavSVARJ0snqBcJ8AudCNEHTEYwKGQUVLYdCzAMBqMF1pcLcC3OxxvETscwJlFtfaafSHAijmh52o6JkCOVJNhHcwvQESstlYKFQlARFWk5JTGJECc6Uec7REhQKvrRFLDlzNA9PLpfbY0NEAxpTkOBy0zQENJZ4/MSDPApEuRfGllHUBuFAgYOS0oQLP3pmUpZTZAvD+yRGalG0CD+W7Pc2oyQLyEOgJ+FDfAOroslocpJ0D+jaQAoNMyQKEHeFMuSRTAEgLF3qy9JsA=",
          "dtype": "f8"
         },
         "z": {
          "bdata": "mErUsItM2D+goTN8lB76vya95oIliPe/4rHhPRJj8z9E4DtrnXwKQKDlcADJ9uO/qsGGVtES+z+FvhRwqu0NwNy6JKN3B+o/kBTZVfgm/r+QObCayKXhv3hdrovsow1A2udOVwbyB8BOtU7J7YcDQHHJ2wOi8QZAB+ppt3gLCUCe/yJ/ORYUQEaD36lrkwZAJm/vnyLeD0CwRpj9aY7+vwrAWmIdMxPAUjYiDFPRB8Aa4qyJGDz/v3569hUuDBHAUEFktDnR1D/AtcepaDrqv8YDnNT8V/w/hBoKnCZj4z9LwCdnRn8AQCs/XqQc7wLAMP8h/bu7AMCZursSTdcIQCB9+vNQa/e/mTZNNU9dDkCwje9iQh0UQAiLzKFoxv8/ZOg43W246D8S6vE8RC3+v6SViDL7HOS/QCTSZZpP5D9UDe94gL7yPzZDTP+giwXAV9p9QO47CkCW+Ik4lfP6Px1dKGEbNAnAZHWy+bMS9z8Q36gg1VoHwGWNjRBcQgBAVNqSs9tQAsA4KSFB8IT1PyZnaoqw8QVAJsb8+qKX/b90DAHLuhn9P0AjO+D4dLm/dNYbUFjz6T8Up/iUoScQwGS/5bwfuAvAVwfyT8H2CEATkmOWjhEHQDBEzKvXZxNASDitK7bl4b86l74N6IwGwOC5Lo0r1LI/A1IPxpVoBEBIS8CpF1kEwDqXzAPp5Ps/3isrVNcLA0D8miSOYqr/P87SbQeBtxPAAuAnqOCN9L/soJIaB3HmP0Da6eivEac/WHWEmpft+L9sgUisHuXrPxiHiMhIZAFAaheKfoCwAsDyXBzQfVrzvxva2kHgwwbAJkij3xR9B8AslhaMp5X2vyg8VSQr/Pu/bpQahlXIAUAMqkKBF3AJQAS9KxLVEOQ/naq2g92eAECUQqaT4k/7PxJ5oYM4WQ9A91vulysqEECDO1ywca4OQNEOcuXg2g7AuG+nY1SE9z+/dgbgYFcDQPaShYSH6hFA/DIoausd9j/TKEuyH3cNQGSd+zTLdhLAYftWq5+HAkD8r21nZh8OQLSf+XWLOvC/QpudGFcxAsA=",
          "dtype": "f8"
         }
        }
       ],
       "layout": {
        "margin": {
         "b": 0,
         "l": 0,
         "r": 0,
         "t": 0
        },
        "template": {
         "data": {
          "bar": [
           {
            "error_x": {
             "color": "#2a3f5f"
            },
            "error_y": {
             "color": "#2a3f5f"
            },
            "marker": {
             "line": {
              "color": "#E5ECF6",
              "width": 0.5
             },
             "pattern": {
              "fillmode": "overlay",
              "size": 10,
              "solidity": 0.2
             }
            },
            "type": "bar"
           }
          ],
          "barpolar": [
           {
            "marker": {
             "line": {
              "color": "#E5ECF6",
              "width": 0.5
             },
             "pattern": {
              "fillmode": "overlay",
              "size": 10,
              "solidity": 0.2
             }
            },
            "type": "barpolar"
           }
          ],
          "carpet": [
           {
            "aaxis": {
             "endlinecolor": "#2a3f5f",
             "gridcolor": "white",
             "linecolor": "white",
             "minorgridcolor": "white",
             "startlinecolor": "#2a3f5f"
            },
            "baxis": {
             "endlinecolor": "#2a3f5f",
             "gridcolor": "white",
             "linecolor": "white",
             "minorgridcolor": "white",
             "startlinecolor": "#2a3f5f"
            },
            "type": "carpet"
           }
          ],
          "choropleth": [
           {
            "colorbar": {
             "outlinewidth": 0,
             "ticks": ""
            },
            "type": "choropleth"
           }
          ],
          "contour": [
           {
            "colorbar": {
             "outlinewidth": 0,
             "ticks": ""
            },
            "colorscale": [
             [
              0,
              "#0d0887"
             ],
             [
              0.1111111111111111,
              "#46039f"
             ],
             [
              0.2222222222222222,
              "#7201a8"
             ],
             [
              0.3333333333333333,
              "#9c179e"
             ],
             [
              0.4444444444444444,
              "#bd3786"
             ],
             [
              0.5555555555555556,
              "#d8576b"
             ],
             [
              0.6666666666666666,
              "#ed7953"
             ],
             [
              0.7777777777777778,
              "#fb9f3a"
             ],
             [
              0.8888888888888888,
              "#fdca26"
             ],
             [
              1,
              "#f0f921"
             ]
            ],
            "type": "contour"
           }
          ],
          "contourcarpet": [
           {
            "colorbar": {
             "outlinewidth": 0,
             "ticks": ""
            },
            "type": "contourcarpet"
           }
          ],
          "heatmap": [
           {
            "colorbar": {
             "outlinewidth": 0,
             "ticks": ""
            },
            "colorscale": [
             [
              0,
              "#0d0887"
             ],
             [
              0.1111111111111111,
              "#46039f"
             ],
             [
              0.2222222222222222,
              "#7201a8"
             ],
             [
              0.3333333333333333,
              "#9c179e"
             ],
             [
              0.4444444444444444,
              "#bd3786"
             ],
             [
              0.5555555555555556,
              "#d8576b"
             ],
             [
              0.6666666666666666,
              "#ed7953"
             ],
             [
              0.7777777777777778,
              "#fb9f3a"
             ],
             [
              0.8888888888888888,
              "#fdca26"
             ],
             [
              1,
              "#f0f921"
             ]
            ],
            "type": "heatmap"
           }
          ],
          "histogram": [
           {
            "marker": {
             "pattern": {
              "fillmode": "overlay",
              "size": 10,
              "solidity": 0.2
             }
            },
            "type": "histogram"
           }
          ],
          "histogram2d": [
           {
            "colorbar": {
             "outlinewidth": 0,
             "ticks": ""
            },
            "colorscale": [
             [
              0,
              "#0d0887"
             ],
             [
              0.1111111111111111,
              "#46039f"
             ],
             [
              0.2222222222222222,
              "#7201a8"
             ],
             [
              0.3333333333333333,
              "#9c179e"
             ],
             [
              0.4444444444444444,
              "#bd3786"
             ],
             [
              0.5555555555555556,
              "#d8576b"
             ],
             [
              0.6666666666666666,
              "#ed7953"
             ],
             [
              0.7777777777777778,
              "#fb9f3a"
             ],
             [
              0.8888888888888888,
              "#fdca26"
             ],
             [
              1,
              "#f0f921"
             ]
            ],
            "type": "histogram2d"
           }
          ],
          "histogram2dcontour": [
           {
            "colorbar": {
             "outlinewidth": 0,
             "ticks": ""
            },
            "colorscale": [
             [
              0,
              "#0d0887"
             ],
             [
              0.1111111111111111,
              "#46039f"
             ],
             [
              0.2222222222222222,
              "#7201a8"
             ],
             [
              0.3333333333333333,
              "#9c179e"
             ],
             [
              0.4444444444444444,
              "#bd3786"
             ],
             [
              0.5555555555555556,
              "#d8576b"
             ],
             [
              0.6666666666666666,
              "#ed7953"
             ],
             [
              0.7777777777777778,
              "#fb9f3a"
             ],
             [
              0.8888888888888888,
              "#fdca26"
             ],
             [
              1,
              "#f0f921"
             ]
            ],
            "type": "histogram2dcontour"
           }
          ],
          "mesh3d": [
           {
            "colorbar": {
             "outlinewidth": 0,
             "ticks": ""
            },
            "type": "mesh3d"
           }
          ],
          "parcoords": [
           {
            "line": {
             "colorbar": {
              "outlinewidth": 0,
              "ticks": ""
             }
            },
            "type": "parcoords"
           }
          ],
          "pie": [
           {
            "automargin": true,
            "type": "pie"
           }
          ],
          "scatter": [
           {
            "fillpattern": {
             "fillmode": "overlay",
             "size": 10,
             "solidity": 0.2
            },
            "type": "scatter"
           }
          ],
          "scatter3d": [
           {
            "line": {
             "colorbar": {
              "outlinewidth": 0,
              "ticks": ""
             }
            },
            "marker": {
             "colorbar": {
              "outlinewidth": 0,
              "ticks": ""
             }
            },
            "type": "scatter3d"
           }
          ],
          "scattercarpet": [
           {
            "marker": {
             "colorbar": {
              "outlinewidth": 0,
              "ticks": ""
             }
            },
            "type": "scattercarpet"
           }
          ],
          "scattergeo": [
           {
            "marker": {
             "colorbar": {
              "outlinewidth": 0,
              "ticks": ""
             }
            },
            "type": "scattergeo"
           }
          ],
          "scattergl": [
           {
            "marker": {
             "colorbar": {
              "outlinewidth": 0,
              "ticks": ""
             }
            },
            "type": "scattergl"
           }
          ],
          "scattermap": [
           {
            "marker": {
             "colorbar": {
              "outlinewidth": 0,
              "ticks": ""
             }
            },
            "type": "scattermap"
           }
          ],
          "scattermapbox": [
           {
            "marker": {
             "colorbar": {
              "outlinewidth": 0,
              "ticks": ""
             }
            },
            "type": "scattermapbox"
           }
          ],
          "scatterpolar": [
           {
            "marker": {
             "colorbar": {
              "outlinewidth": 0,
              "ticks": ""
             }
            },
            "type": "scatterpolar"
           }
          ],
          "scatterpolargl": [
           {
            "marker": {
             "colorbar": {
              "outlinewidth": 0,
              "ticks": ""
             }
            },
            "type": "scatterpolargl"
           }
          ],
          "scatterternary": [
           {
            "marker": {
             "colorbar": {
              "outlinewidth": 0,
              "ticks": ""
             }
            },
            "type": "scatterternary"
           }
          ],
          "surface": [
           {
            "colorbar": {
             "outlinewidth": 0,
             "ticks": ""
            },
            "colorscale": [
             [
              0,
              "#0d0887"
             ],
             [
              0.1111111111111111,
              "#46039f"
             ],
             [
              0.2222222222222222,
              "#7201a8"
             ],
             [
              0.3333333333333333,
              "#9c179e"
             ],
             [
              0.4444444444444444,
              "#bd3786"
             ],
             [
              0.5555555555555556,
              "#d8576b"
             ],
             [
              0.6666666666666666,
              "#ed7953"
             ],
             [
              0.7777777777777778,
              "#fb9f3a"
             ],
             [
              0.8888888888888888,
              "#fdca26"
             ],
             [
              1,
              "#f0f921"
             ]
            ],
            "type": "surface"
           }
          ],
          "table": [
           {
            "cells": {
             "fill": {
              "color": "#EBF0F8"
             },
             "line": {
              "color": "white"
             }
            },
            "header": {
             "fill": {
              "color": "#C8D4E3"
             },
             "line": {
              "color": "white"
             }
            },
            "type": "table"
           }
          ]
         },
         "layout": {
          "annotationdefaults": {
           "arrowcolor": "#2a3f5f",
           "arrowhead": 0,
           "arrowwidth": 1
          },
          "autotypenumbers": "strict",
          "coloraxis": {
           "colorbar": {
            "outlinewidth": 0,
            "ticks": ""
           }
          },
          "colorscale": {
           "diverging": [
            [
             0,
             "#8e0152"
            ],
            [
             0.1,
             "#c51b7d"
            ],
            [
             0.2,
             "#de77ae"
            ],
            [
             0.3,
             "#f1b6da"
            ],
            [
             0.4,
             "#fde0ef"
            ],
            [
             0.5,
             "#f7f7f7"
            ],
            [
             0.6,
             "#e6f5d0"
            ],
            [
             0.7,
             "#b8e186"
            ],
            [
             0.8,
             "#7fbc41"
            ],
            [
             0.9,
             "#4d9221"
            ],
            [
             1,
             "#276419"
            ]
           ],
           "sequential": [
            [
             0,
             "#0d0887"
            ],
            [
             0.1111111111111111,
             "#46039f"
            ],
            [
             0.2222222222222222,
             "#7201a8"
            ],
            [
             0.3333333333333333,
             "#9c179e"
            ],
            [
             0.4444444444444444,
             "#bd3786"
            ],
            [
             0.5555555555555556,
             "#d8576b"
            ],
            [
             0.6666666666666666,
             "#ed7953"
            ],
            [
             0.7777777777777778,
             "#fb9f3a"
            ],
            [
             0.8888888888888888,
             "#fdca26"
            ],
            [
             1,
             "#f0f921"
            ]
           ],
           "sequentialminus": [
            [
             0,
             "#0d0887"
            ],
            [
             0.1111111111111111,
             "#46039f"
            ],
            [
             0.2222222222222222,
             "#7201a8"
            ],
            [
             0.3333333333333333,
             "#9c179e"
            ],
            [
             0.4444444444444444,
             "#bd3786"
            ],
            [
             0.5555555555555556,
             "#d8576b"
            ],
            [
             0.6666666666666666,
             "#ed7953"
            ],
            [
             0.7777777777777778,
             "#fb9f3a"
            ],
            [
             0.8888888888888888,
             "#fdca26"
            ],
            [
             1,
             "#f0f921"
            ]
           ]
          },
          "colorway": [
           "#636efa",
           "#EF553B",
           "#00cc96",
           "#ab63fa",
           "#FFA15A",
           "#19d3f3",
           "#FF6692",
           "#B6E880",
           "#FF97FF",
           "#FECB52"
          ],
          "font": {
           "color": "#2a3f5f"
          },
          "geo": {
           "bgcolor": "white",
           "lakecolor": "white",
           "landcolor": "#E5ECF6",
           "showlakes": true,
           "showland": true,
           "subunitcolor": "white"
          },
          "hoverlabel": {
           "align": "left"
          },
          "hovermode": "closest",
          "mapbox": {
           "style": "light"
          },
          "paper_bgcolor": "white",
          "plot_bgcolor": "#E5ECF6",
          "polar": {
           "angularaxis": {
            "gridcolor": "white",
            "linecolor": "white",
            "ticks": ""
           },
           "bgcolor": "#E5ECF6",
           "radialaxis": {
            "gridcolor": "white",
            "linecolor": "white",
            "ticks": ""
           }
          },
          "scene": {
           "xaxis": {
            "backgroundcolor": "#E5ECF6",
            "gridcolor": "white",
            "gridwidth": 2,
            "linecolor": "white",
            "showbackground": true,
            "ticks": "",
            "zerolinecolor": "white"
           },
           "yaxis": {
            "backgroundcolor": "#E5ECF6",
            "gridcolor": "white",
            "gridwidth": 2,
            "linecolor": "white",
            "showbackground": true,
            "ticks": "",
            "zerolinecolor": "white"
           },
           "zaxis": {
            "backgroundcolor": "#E5ECF6",
            "gridcolor": "white",
            "gridwidth": 2,
            "linecolor": "white",
            "showbackground": true,
            "ticks": "",
            "zerolinecolor": "white"
           }
          },
          "shapedefaults": {
           "line": {
            "color": "#2a3f5f"
           }
          },
          "ternary": {
           "aaxis": {
            "gridcolor": "white",
            "linecolor": "white",
            "ticks": ""
           },
           "baxis": {
            "gridcolor": "white",
            "linecolor": "white",
            "ticks": ""
           },
           "bgcolor": "#E5ECF6",
           "caxis": {
            "gridcolor": "white",
            "linecolor": "white",
            "ticks": ""
           }
          },
          "title": {
           "x": 0.05
          },
          "xaxis": {
           "automargin": true,
           "gridcolor": "white",
           "linecolor": "white",
           "ticks": "",
           "title": {
            "standoff": 15
           },
           "zerolinecolor": "white",
           "zerolinewidth": 2
          },
          "yaxis": {
           "automargin": true,
           "gridcolor": "white",
           "linecolor": "white",
           "ticks": "",
           "title": {
            "standoff": 15
           },
           "zerolinecolor": "white",
           "zerolinewidth": 2
          }
         }
        }
       }
      }
     },
     "metadata": {},
     "output_type": "display_data"
    }
   ],
   "source": [
    "import plotly.graph_objects as go\n",
    "\n",
    "# two vectors in R3\n",
    "v1 = np.array([ 3,5,1 ])\n",
    "v2 = np.array([ 0,2,2 ])\n",
    "\n",
    "# uncomment the lines below for the second part\n",
    "v1 = np.array([ 3.0,5.0,1.0 ])\n",
    "v2 = np.array([ 1.5,2.5,0.5 ])\n",
    "\n",
    "\n",
    "# random scalars in the x-axis range\n",
    "scalars = np.random.uniform(low=-4,high=4,size=(100,2))\n",
    "\n",
    "\n",
    "\n",
    "# create random points\n",
    "points = np.zeros((100,3))\n",
    "for i in range(len(scalars)):\n",
    "\n",
    "  # define this point as a random weighted combination of the two vectors\n",
    "  points[i,:] = v1*scalars[i,0] + v2*scalars[i,1]\n",
    "\n",
    "\n",
    "# draw the dots in the plane\n",
    "fig = go.Figure( data=[go.Scatter3d(x=points[:,0], y=points[:,1], z=points[:,2], \n",
    "                                    mode='markers', marker=dict(size=6,color='black') )])\n",
    "\n",
    "fig.update_layout(margin=dict(l=0,r=0,b=0,t=0))\n",
    "fig.show()"
   ]
  },
  {
   "cell_type": "code",
   "execution_count": 8,
   "metadata": {},
   "outputs": [
    {
     "name": "stdout",
     "output_type": "stream",
     "text": [
      "[[ 1.26485979 -1.77037563]\n",
      " [-3.25862086  3.25231007]\n",
      " [-2.12622528  1.31097275]\n",
      " [ 0.27691933  1.86953597]\n",
      " [ 3.81999487 -1.01829548]\n",
      " [-1.83277902  2.41780775]\n",
      " [ 0.70804567  1.968097  ]\n",
      " [-3.36777169 -0.74655211]\n",
      " [ 1.4991909  -1.37155872]\n",
      " [-1.83455053 -0.09992729]\n",
      " [-0.97311081  0.84324711]\n",
      " [ 3.89358725 -0.37709247]\n",
      " [-2.9164479  -0.15345651]\n",
      " [ 3.08469265 -1.28664228]\n",
      " [ 2.89449958 -0.05302956]\n",
      " [ 1.21835866  3.82448536]\n",
      " [ 3.48909784  3.06521174]\n",
      " [ 2.55011969  0.54372602]\n",
      " [ 3.57098398  0.824961  ]\n",
      " [-2.74342089  1.66730369]\n",
      " [-3.6572698  -2.28529396]\n",
      " [-1.40755056 -3.13931725]\n",
      " [-1.81917619 -0.26599129]\n",
      " [-3.43444323 -1.65490265]\n",
      " [ 1.26205176 -1.87356332]\n",
      " [-0.47977345 -0.67971308]\n",
      " [ 2.33663876 -1.13031482]\n",
      " [-1.08761194  3.38693062]\n",
      " [ 3.8775339  -3.63077579]\n",
      " [-2.82131744  0.90912717]\n",
      " [-0.16768214 -3.84797003]\n",
      " [ 1.79526429  2.61972638]\n",
      " [ 0.53069152 -3.98878354]\n",
      " [ 3.80361543 -0.01610839]\n",
      " [ 3.90880615  2.23953482]\n",
      " [ 1.50708785  0.95770355]\n",
      " [-0.70230713  2.9496409 ]\n",
      " [-1.16141043 -1.44928195]\n",
      " [-0.09979377 -1.05748795]\n",
      " [ 2.58823812 -3.90704188]\n",
      " [ 1.67208804 -1.00115759]\n",
      " [-3.32540645  1.26445656]\n",
      " [ 3.48305195 -0.40757785]\n",
      " [ 1.50458933  0.35975831]\n",
      " [-1.41652793 -3.46782984]\n",
      " [ 0.10658184  2.67096865]\n",
      " [-1.62587219 -2.58695927]\n",
      " [ 0.1754717   3.71386092]\n",
      " [-0.73195605 -3.11505099]\n",
      " [ 2.44455789 -2.1992044 ]\n",
      " [ 3.53900939 -1.59199378]\n",
      " [-1.22156771 -1.25590591]\n",
      " [ 3.62566199 -3.61376068]\n",
      " [ 1.84570624 -3.89029468]\n",
      " [ 0.36362092  0.89466855]\n",
      " [-2.59794216 -2.88152032]\n",
      " [-3.80975357  0.68969856]\n",
      " [ 3.2121708  -0.1833698 ]\n",
      " [ 3.19774885 -0.6283522 ]\n",
      " [ 3.91299706  1.8768232 ]\n",
      " [ 0.21433812 -1.54725817]\n",
      " [-1.54061193 -2.5563801 ]\n",
      " [ 1.01785955 -1.88861919]\n",
      " [ 2.46982081  0.16249223]\n",
      " [-1.64418891 -1.79862652]\n",
      " [ 2.68004789 -1.87332322]\n",
      " [ 0.83977969  3.08200423]\n",
      " [ 1.26897569  1.42024441]\n",
      " [-3.278167   -3.30207229]\n",
      " [-0.33797094 -1.89333428]\n",
      " [-0.14199996  1.68659459]\n",
      " [-0.32382372  0.73776108]\n",
      " [-3.1565982   3.19718458]\n",
      " [-0.32505877  2.393555  ]\n",
      " [ 1.53825874  1.27141641]\n",
      " [-2.8688066   1.06524802]\n",
      " [-1.15302367 -0.11313795]\n",
      " [-3.07375181  0.45621846]\n",
      " [-1.75196873 -2.36821248]\n",
      " [-1.11539223 -0.59228902]\n",
      " [-0.69285025 -2.11242867]\n",
      " [ 2.04929847  0.3470418 ]\n",
      " [ 2.70950359  0.94045748]\n",
      " [ 2.18517055 -3.11623164]\n",
      " [ 0.32846484  3.49821221]\n",
      " [ 1.92823595 -0.44246552]\n",
      " [ 3.23448949  1.36815068]\n",
      " [ 3.26524534  1.55187317]\n",
      " [ 3.67812081  0.31411395]\n",
      " [-3.41170418 -0.89034017]\n",
      " [ 3.21836426 -3.49711444]\n",
      " [ 1.28822437  2.25888175]\n",
      " [ 3.20931069  2.53944379]\n",
      " [ 1.74256734 -0.72052551]\n",
      " [ 3.87792391 -0.38951598]\n",
      " [-3.98029219 -1.27143473]\n",
      " [ 2.40614473 -0.17984443]\n",
      " [ 3.08869231  1.35327945]\n",
      " [-0.235104   -1.55837831]\n",
      " [-2.47619624  0.40420867]]\n"
     ]
    }
   ],
   "source": [
    "print(scalars)"
   ]
  },
  {
   "cell_type": "code",
   "execution_count": null,
   "metadata": {},
   "outputs": [],
   "source": []
  }
 ],
 "metadata": {
  "kernelspec": {
   "display_name": "Python 3",
   "language": "python",
   "name": "python3"
  },
  "language_info": {
   "codemirror_mode": {
    "name": "ipython",
    "version": 3
   },
   "file_extension": ".py",
   "mimetype": "text/x-python",
   "name": "python",
   "nbconvert_exporter": "python",
   "pygments_lexer": "ipython3",
   "version": "3.12.7"
  }
 },
 "nbformat": 4,
 "nbformat_minor": 2
}
